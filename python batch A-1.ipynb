{
 "cells": [
  {
   "cell_type": "code",
   "execution_count": 3,
   "id": "81136702-a3c8-4fcd-bb4b-874d48046751",
   "metadata": {},
   "outputs": [
    {
     "data": {
      "text/plain": [
       "[10, 20, 30, 40]"
      ]
     },
     "execution_count": 3,
     "metadata": {},
     "output_type": "execute_result"
    }
   ],
   "source": [
    "list1=[10,20,30,40]\n",
    "list1"
   ]
  },
  {
   "cell_type": "code",
   "execution_count": 6,
   "id": "c06d0c54-0c98-4182-b831-c2041f9d3b67",
   "metadata": {},
   "outputs": [
    {
     "data": {
      "text/plain": [
       "[10, 20, 30, 40, 50]"
      ]
     },
     "execution_count": 6,
     "metadata": {},
     "output_type": "execute_result"
    }
   ],
   "source": [
    "list1=[10,20,30,40]\n",
    "list1.append(50)\n",
    "list1"
   ]
  },
  {
   "cell_type": "code",
   "execution_count": 7,
   "id": "a96aef57-a206-41cd-8038-73f9ab5a487d",
   "metadata": {},
   "outputs": [
    {
     "data": {
      "text/plain": [
       "[0, 1, 1, 0]"
      ]
     },
     "execution_count": 7,
     "metadata": {},
     "output_type": "execute_result"
    }
   ],
   "source": [
    "mylist=[[1],[1,1]]\n",
    "[0]+mylist[-1]+[0]\n",
    "for i in range(0,n-1):\n",
    "    temp="
   ]
  },
  {
   "cell_type": "code",
   "execution_count": 1,
   "id": "10fafa85-b623-432b-aff7-c39200a48bb8",
   "metadata": {},
   "outputs": [
    {
     "name": "stdout",
     "output_type": "stream",
     "text": [
      "[[1], [1, 1], [1, 2, 1], [1, 3, 3, 1], [1, 4, 6, 4, 1]]\n"
     ]
    }
   ],
   "source": [
    "mylist=[[1]]\n",
    "n=5\n",
    "for i in range(0,n-1):\n",
    "    temp=[0]+mylist[-1]+[0]\n",
    "    list1=[]\n",
    "    # [0,10,0],  mylist=1\n",
    "    for j in range(len(mylist)+1):\n",
    "        list1.append(temp[j]+temp[j+1])\n",
    "    mylist.append(list1)\n",
    "\n",
    "print(mylist)"
   ]
  },
  {
   "cell_type": "code",
   "execution_count": 20,
   "id": "466320dd-9394-4819-ab14-ce7e4f0600cf",
   "metadata": {},
   "outputs": [
    {
     "name": "stdout",
     "output_type": "stream",
     "text": [
      "[]\n"
     ]
    }
   ],
   "source": [
    "list1=[]\n",
    "for i in range(1,5):\n",
    "    for j in range(0,i+1):\n",
    "        if i==0 and i==1 and i==j:\n",
    "            list1.append(j)\n",
    "print(list1)"
   ]
  },
  {
   "cell_type": "code",
   "execution_count": 2,
   "id": "0428ee0b-3444-468c-b17e-1aa98de134a7",
   "metadata": {},
   "outputs": [
    {
     "name": "stdout",
     "output_type": "stream",
     "text": [
      "[[1], [1, 1], [1, 2, 1], [1, 3, 3, 1], [1, 4, 6, 4, 1]]\n"
     ]
    }
   ],
   "source": [
    "mylist=[]\n",
    "for i in range(0,5):\n",
    "    temp=[]\n",
    "    for j in range(0,i+1):\n",
    "        if(j==0 or j==i):\n",
    "            temp.append(1)\n",
    "        else:\n",
    "            temp.append(mylist[i-1][j-1]+mylist[i-1][j])\n",
    "    mylist.append(temp)\n",
    "print(mylist)"
   ]
  },
  {
   "cell_type": "code",
   "execution_count": null,
   "id": "640f33c1-ced4-447d-ae52-ecc565f0999f",
   "metadata": {},
   "outputs": [],
   "source": [
    "#hackerrank-\n",
    "#what is list ..and differnce between list comprehension and how to implement\n",
    "#tuples\n"
   ]
  },
  {
   "cell_type": "code",
   "execution_count": null,
   "id": "49664cbc-425b-420c-8e25-574a908e6495",
   "metadata": {},
   "outputs": [],
   "source": [
    "# Dictionary \n",
    "#key and value\n",
    "#key value\n",
    "# value\n",
    "#orderd\n",
    "#no index\n",
    "#mutable in nature - memory address \n"
   ]
  },
  {
   "cell_type": "code",
   "execution_count": 6,
   "id": "5a5530dc-d917-46c2-a11f-1089aca020d9",
   "metadata": {},
   "outputs": [
    {
     "data": {
      "text/plain": [
       "dict_items([(1, 'tushar'), (2, 'naina')])"
      ]
     },
     "execution_count": 6,
     "metadata": {},
     "output_type": "execute_result"
    }
   ],
   "source": [
    "mydict={1:\"tushar\",2:\"naina\"}\n",
    "len(mydict)\n",
    "mydict.keys()\n",
    "mydict.values()\n",
    "mydict.items()  #both key and value"
   ]
  },
  {
   "cell_type": "code",
   "execution_count": 7,
   "id": "516de991-5d17-45ec-b2aa-5738225d0cd4",
   "metadata": {},
   "outputs": [
    {
     "data": {
      "text/plain": [
       "'tushar'"
      ]
     },
     "execution_count": 7,
     "metadata": {},
     "output_type": "execute_result"
    }
   ],
   "source": [
    "mydict[1]"
   ]
  },
  {
   "cell_type": "code",
   "execution_count": 9,
   "id": "4401e768-0bd1-46fd-848e-70d98ba83067",
   "metadata": {},
   "outputs": [
    {
     "data": {
      "text/plain": [
       "{1: 'tushargoyal', 2: 'naina'}"
      ]
     },
     "execution_count": 9,
     "metadata": {},
     "output_type": "execute_result"
    }
   ],
   "source": [
    "mydict[1]=\"tushargoyal\"  #update\n",
    "mydict"
   ]
  },
  {
   "cell_type": "code",
   "execution_count": 12,
   "id": "56e00d27-cb03-4153-8374-8d9fe6c87cce",
   "metadata": {},
   "outputs": [
    {
     "data": {
      "text/plain": [
       "{1: 'tushargoyal', 2: 'naina', 3: 'hello'}"
      ]
     },
     "execution_count": 12,
     "metadata": {},
     "output_type": "execute_result"
    }
   ],
   "source": [
    "mydict[3]=\"hello\"\n",
    "mydict"
   ]
  },
  {
   "cell_type": "code",
   "execution_count": 15,
   "id": "e439d340-49bc-4f83-8b4f-b573775d2655",
   "metadata": {},
   "outputs": [
    {
     "data": {
      "text/plain": [
       "'tushargoyal'"
      ]
     },
     "execution_count": 15,
     "metadata": {},
     "output_type": "execute_result"
    }
   ],
   "source": [
    "x=mydict.pop(1)\n",
    "x"
   ]
  },
  {
   "cell_type": "code",
   "execution_count": 16,
   "id": "edcec91e-ebf5-452e-9585-3ebfefbab83a",
   "metadata": {},
   "outputs": [
    {
     "data": {
      "text/plain": [
       "{2: 'naina', 3: 'hello', 12: 'tushar'}"
      ]
     },
     "execution_count": 16,
     "metadata": {},
     "output_type": "execute_result"
    }
   ],
   "source": [
    "mydict.update( {12:\"tushar\"} )\n",
    "mydict"
   ]
  },
  {
   "cell_type": "code",
   "execution_count": 18,
   "id": "70226ed0-df69-404c-be64-32420485761f",
   "metadata": {},
   "outputs": [
    {
     "name": "stdout",
     "output_type": "stream",
     "text": [
      "2 naina\n",
      "3 hello\n",
      "12 tushar\n"
     ]
    }
   ],
   "source": [
    "for key in mydict:\n",
    "    print(key,mydict[key])"
   ]
  },
  {
   "cell_type": "code",
   "execution_count": 20,
   "id": "320a792a-0765-4b63-8842-45fee18edfda",
   "metadata": {},
   "outputs": [
    {
     "ename": "SyntaxError",
     "evalue": "unterminated string literal (detected at line 2) (1846085182.py, line 2)",
     "output_type": "error",
     "traceback": [
      "\u001b[1;36m  Cell \u001b[1;32mIn[20], line 2\u001b[1;36m\u001b[0m\n\u001b[1;33m    mydict[\"x]=mydict1[\"x\"+2]\u001b[0m\n\u001b[1;37m                         ^\u001b[0m\n\u001b[1;31mSyntaxError\u001b[0m\u001b[1;31m:\u001b[0m unterminated string literal (detected at line 2)\n"
     ]
    }
   ],
   "source": [
    "mydict1={\"x\" :10}\n",
    "mydict[\"x]=mydict1[\"x\"+2]\n",
    "print(mydict1)"
   ]
  },
  {
   "cell_type": "code",
   "execution_count": 30,
   "id": "4ef3b9fc-f823-4642-b361-afa25d3c7af3",
   "metadata": {},
   "outputs": [
    {
     "name": "stdout",
     "output_type": "stream",
     "text": [
      "{'total': 7}\n"
     ]
    }
   ],
   "source": [
    "mydict1={\"total\" :0}\n",
    "count=0\n",
    "for i in range(10,18):\n",
    "    mydict1[\"total\"]=count\n",
    "    count+=1\n",
    "print(mydict1)"
   ]
  },
  {
   "cell_type": "code",
   "execution_count": 40,
   "id": "aca2810f-ec19-49c4-8756-fd871eac55cf",
   "metadata": {},
   "outputs": [
    {
     "name": "stdout",
     "output_type": "stream",
     "text": [
      "{'total': 8}\n"
     ]
    }
   ],
   "source": [
    "mydict2={\"total\" :0}\n",
    "count=0\n",
    "for i in \"heyusers\":\n",
    "    mydict2[\"total\"]=mydict2[\"total\"]+1\n",
    "print(mydict2)"
   ]
  },
  {
   "cell_type": "code",
   "execution_count": 46,
   "id": "53b557c5-1f04-4889-9820-9dc6d1557b2e",
   "metadata": {},
   "outputs": [
    {
     "name": "stdout",
     "output_type": "stream",
     "text": [
      "{'total': 0, 'h': 1, 'e': 1, 'y': 1, 'u': 1, 's': 1, 'r': 1}\n"
     ]
    }
   ],
   "source": [
    "mydict2={\"total\" :0}\n",
    "count=0\n",
    "for i in \"heyuser\":\n",
    "    mydict2[i]=1\n",
    "print(mydict2)"
   ]
  },
  {
   "cell_type": "code",
   "execution_count": 52,
   "id": "345b332c-3e2b-4543-a671-e85741fd351f",
   "metadata": {},
   "outputs": [
    {
     "name": "stdout",
     "output_type": "stream",
     "text": [
      "{'total': 8}\n"
     ]
    }
   ],
   "source": [
    "mydict2={\"total\" :0}\n",
    "string=\"heyuser\"\n",
    "for i in string:\n",
    "    if i not in string:\n",
    "        mydict2[i]=1\n",
    "    else:\n",
    "        mydict2[\"total\"]=mydict[\"total\"]+1\n",
    "print(mydict2)"
   ]
  },
  {
   "cell_type": "code",
   "execution_count": 61,
   "id": "a5501ec3-620d-4b9a-86ba-3b40e5c8ae6b",
   "metadata": {},
   "outputs": [
    {
     "name": "stdout",
     "output_type": "stream",
     "text": [
      "14\n",
      "28\n",
      "42\n",
      "{'yes': 3, 'no': 47}\n"
     ]
    }
   ],
   "source": [
    "# 1-5-..2 or 7 divide\n",
    "dict1={\"yes\":0 ,\"no\":0}\n",
    "for i in range(1,51):\n",
    "    if i%2==0 and i%7==0:\n",
    "        print(i)\n",
    "        dict1[\"yes\"]=dict1[\"yes\"]+1\n",
    "    else:\n",
    "        dict1[\"no\"]=dict1[\"no\"]+1\n",
    "print(dict1)"
   ]
  },
  {
   "cell_type": "code",
   "execution_count": 63,
   "id": "53ddc8ad-041f-4c52-a8f3-e50f8c0a89d2",
   "metadata": {},
   "outputs": [
    {
     "name": "stdout",
     "output_type": "stream",
     "text": [
      "{'vowels': 5}\n"
     ]
    }
   ],
   "source": [
    "mydict={\"vowels\":0}\n",
    "vowels=\"aeiou\"\n",
    "string =\"hey hello regex\"\n",
    "for i in string:\n",
    "    if i in vowels:\n",
    "        mydict[\"vowels\"]+=1\n",
    "print(mydict)"
   ]
  },
  {
   "cell_type": "code",
   "execution_count": 78,
   "id": "32e5f2b0-22e8-4a6b-9cff-4d91c74df480",
   "metadata": {},
   "outputs": [
    {
     "name": "stdout",
     "output_type": "stream",
     "text": [
      "e\n",
      "e\n",
      "o\n",
      "u\n",
      "a\n",
      "a\n",
      "e\n",
      "i\n",
      "{'vowels': 8}\n"
     ]
    }
   ],
   "source": [
    "mydict={\"vowels\":0}\n",
    "vowels=\"aeiou\"\n",
    "string =\"hey hello tushar aei\"\n",
    "for i in string:\n",
    "    if i in vowels:\n",
    "        mydict[\"vowels\"]+=1\n",
    "        print(i)\n",
    "    else:\n",
    "        mydict[\n",
    "        \n",
    "print(mydict)"
   ]
  },
  {
   "cell_type": "code",
   "execution_count": null,
   "id": "4a5ebddd-1fe3-4120-bd7c-482ba906822c",
   "metadata": {},
   "outputs": [],
   "source": [
    "# list ,dictonary,set ,loop"
   ]
  },
  {
   "cell_type": "code",
   "execution_count": null,
   "id": "ff2daafd-3624-44c5-b63e-8eb34fe98f8b",
   "metadata": {},
   "outputs": [],
   "source": [
    "#set \n",
    "# collection of element \n",
    "#unique \n",
    "#unordered\n",
    "# no index\n",
    "#Mutable but set element are immutable"
   ]
  },
  {
   "cell_type": "code",
   "execution_count": 80,
   "id": "09d1cc8b-5601-44a1-9a85-c3481b96b60b",
   "metadata": {},
   "outputs": [
    {
     "name": "stdout",
     "output_type": "stream",
     "text": [
      "{10, 20, 30}\n"
     ]
    }
   ],
   "source": [
    "myset={10,20,30,10,20}\n",
    "print(myset)"
   ]
  },
  {
   "cell_type": "code",
   "execution_count": 81,
   "id": "98d67887-1dc6-42fc-ad45-5ece54bc1f6a",
   "metadata": {},
   "outputs": [
    {
     "data": {
      "text/plain": [
       "{10, 20, 30, 40}"
      ]
     },
     "execution_count": 81,
     "metadata": {},
     "output_type": "execute_result"
    }
   ],
   "source": [
    "myset.add(40)\n",
    "myset"
   ]
  },
  {
   "cell_type": "code",
   "execution_count": null,
   "id": "e704954d-08ed-4df7-aab1-ed5066a2cfa1",
   "metadata": {},
   "outputs": [],
   "source": []
  },
  {
   "cell_type": "code",
   "execution_count": null,
   "id": "2fd60083-41af-487a-a10d-78697df461a0",
   "metadata": {},
   "outputs": [],
   "source": [
    "#set -  \n",
    "# remove -use delete\n",
    "#discard-use delete\n",
    "#update \n",
    "#union \n",
    "#intersection \n",
    "#super set \n",
    "#difference \n",
    "#symmatric difference update\n",
    "# difference between break continue and pass \n",
    "# what is the difference between list and dictionary comprehension \n",
    "# difference between .py file and .pyc file\n",
    "#"
   ]
  }
 ],
 "metadata": {
  "kernelspec": {
   "display_name": "Python 3 (ipykernel)",
   "language": "python",
   "name": "python3"
  },
  "language_info": {
   "codemirror_mode": {
    "name": "ipython",
    "version": 3
   },
   "file_extension": ".py",
   "mimetype": "text/x-python",
   "name": "python",
   "nbconvert_exporter": "python",
   "pygments_lexer": "ipython3",
   "version": "3.10.11"
  }
 },
 "nbformat": 4,
 "nbformat_minor": 5
}
