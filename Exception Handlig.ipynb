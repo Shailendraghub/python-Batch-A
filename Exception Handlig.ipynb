{
 "cells": [
  {
   "cell_type": "code",
   "execution_count": 1,
   "id": "452a29cc-390b-4f51-b088-1524ed3f2f80",
   "metadata": {},
   "outputs": [
    {
     "name": "stdout",
     "output_type": "stream",
     "text": [
      "hello\n",
      "error handle\n"
     ]
    }
   ],
   "source": [
    "#Exception Handlig\n",
    "try:\n",
    "    print(\"hello\")\n",
    "    10/0\n",
    "    print(\"hey\")\n",
    "except:\n",
    "    print(\"error handle\")"
   ]
  },
  {
   "cell_type": "code",
   "execution_count": 11,
   "id": "02887b9c-ef6a-4443-a3e4-2baa13635bb2",
   "metadata": {},
   "outputs": [
    {
     "name": "stdout",
     "output_type": "stream",
     "text": [
      "hello\n",
      "handle error name 'xyz' is not defined\n",
      "always executed\n"
     ]
    }
   ],
   "source": [
    "try:\n",
    "    print(\"hello\")\n",
    "    xyz\n",
    "    print(\"hey\")\n",
    "except (NameError) as e:\n",
    "    print(\"handle error\",e) \n",
    "finally:\n",
    "    print(\"always executed\")"
   ]
  },
  {
   "cell_type": "code",
   "execution_count": 12,
   "id": "09f2f7c2-561c-4987-8cfc-8342743bce05",
   "metadata": {},
   "outputs": [
    {
     "name": "stdout",
     "output_type": "stream",
     "text": [
      "all exception handled\n"
     ]
    }
   ],
   "source": [
    "try:\n",
    "    age=16\n",
    "    if(age<18):\n",
    "        raise ValueError\n",
    "    else:\n",
    "        print(\"hello\")\n",
    "except ValueError:\n",
    "    print(\"all exception handled\")\n"
   ]
  },
  {
   "cell_type": "code",
   "execution_count": 13,
   "id": "772249db-7a5a-46f6-9b92-41006a715077",
   "metadata": {},
   "outputs": [
    {
     "data": {
      "text/plain": [
       "[10, 10, 20]"
      ]
     },
     "execution_count": 13,
     "metadata": {},
     "output_type": "execute_result"
    }
   ],
   "source": [
    "list (filter(lambda x: x%10==0, [11,10,10,20]) )\n"
   ]
  },
  {
   "cell_type": "code",
   "execution_count": 1,
   "id": "cb3caa48-2e9a-4cee-b980-94baf330f267",
   "metadata": {},
   "outputs": [
    {
     "name": "stdout",
     "output_type": "stream",
     "text": [
      "Cannot divide by zero!\n"
     ]
    }
   ],
   "source": [
    "try:\n",
    "    result = 10 / 0\n",
    "except ZeroDivisionError:\n",
    "    print(\"Cannot divide by zero!\")\n"
   ]
  }
 ],
 "metadata": {
  "kernelspec": {
   "display_name": "Python 3 (ipykernel)",
   "language": "python",
   "name": "python3"
  },
  "language_info": {
   "codemirror_mode": {
    "name": "ipython",
    "version": 3
   },
   "file_extension": ".py",
   "mimetype": "text/x-python",
   "name": "python",
   "nbconvert_exporter": "python",
   "pygments_lexer": "ipython3",
   "version": "3.10.11"
  }
 },
 "nbformat": 4,
 "nbformat_minor": 5
}
