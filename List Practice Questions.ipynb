{
 "cells": [
  {
   "cell_type": "code",
   "execution_count": 1,
   "id": "ca91d161-4deb-413f-a1a7-c35f1d40c783",
   "metadata": {},
   "outputs": [
    {
     "name": "stdout",
     "output_type": "stream",
     "text": [
      "[1, 3, 5, 7, 9, 11, 13, 15, 17, 19, 21, 23, 25, 27, 29, 31, 33, 35, 37, 39, 41, 43, 45, 47, 49]\n"
     ]
    }
   ],
   "source": [
    "# Write a program to print the first 25 odd numbers in list\n",
    "odd = []\n",
    "for i in range(1, 50, 2): \n",
    "    odd.append(i)\n",
    "print(odd)\n"
   ]
  },
  {
   "cell_type": "code",
   "execution_count": 5,
   "id": "812882c9-7547-40cd-83e1-f4a2cd6539f5",
   "metadata": {},
   "outputs": [
    {
     "name": "stdout",
     "output_type": "stream",
     "text": [
      "[1, 3, 5, 7, 9, 11, 13, 15, 17, 19, 21, 23, 25, 27, 29, 31, 33, 35, 37, 39, 41, 43, 45, 47, 49]\n"
     ]
    }
   ],
   "source": [
    "odd =[]\n",
    "for i in range(1,51):\n",
    "    if i%2!=0:\n",
    "        odd.append(i)\n",
    "print(odd)"
   ]
  },
  {
   "cell_type": "code",
   "execution_count": 13,
   "id": "c53ddf80-b8bc-474f-b65e-87f24aad3fc5",
   "metadata": {},
   "outputs": [
    {
     "name": "stdout",
     "output_type": "stream",
     "text": [
      "['e', 'l', 'e', 'y', 'H', 'L', 'O', 'H']\n"
     ]
    }
   ],
   "source": [
    "# 2. Arrange string characters such that lowercase letters should come first\n",
    "lower = []\n",
    "upper = []\n",
    "string = \"HelLOHey\"\n",
    "\n",
    "for i in string: \n",
    "    if i >= 'a' and i<='z': \n",
    "        lower.append(i)  \n",
    "    elif i >= 'A' and i<='Z':  \n",
    "        upper.append(i) \n",
    "result= lower + upper\n",
    "print(result) \n",
    "\n"
   ]
  },
  {
   "cell_type": "code",
   "execution_count": 27,
   "id": "b0661c5e-4d0d-4e28-b408-83936f348fb6",
   "metadata": {},
   "outputs": [
    {
     "name": "stdout",
     "output_type": "stream",
     "text": [
      "8\n",
      "3\n",
      "4\n"
     ]
    }
   ],
   "source": [
    "# 3. Count all letters, digits, and special symbols from a given string\n",
    "# a. given-->str1 = \"P@#yn26at^&i5ve\"\n",
    "# b. expected-->Total counts of chars, digits, and symbols\n",
    "string =\"P@#yn26at^&i5ve\"\n",
    "chars=0\n",
    "digits=0\n",
    "symbols=0\n",
    "for i in string:\n",
    "    if (i >= 'a' and i<='z') or  (i >= 'A' and i<='Z'):\n",
    "        chars+=1\n",
    "        \n",
    "    elif(i>'0' and i<'9'):\n",
    "        digits+=1   \n",
    "    else:\n",
    "        symbols+=1\n",
    "print(chars)\n",
    "print(digits)\n",
    "print(symbols)"
   ]
  },
  {
   "cell_type": "code",
   "execution_count": 12,
   "id": "f838f2aa-60c8-4273-b63b-bcf8d6125c6f",
   "metadata": {},
   "outputs": [
    {
     "name": "stdout",
     "output_type": "stream",
     "text": [
      "[10, 20, 40, 'hello']\n"
     ]
    }
   ],
   "source": [
    "# 4. Remove empty strings from a list of strings\n",
    "mylist=[10,20,40,\"hello\",\"\"]\n",
    "mylist1=[]\n",
    "for i in mylist:\n",
    "    if i!=\"\":\n",
    "        mylist1.append(i)\n",
    "mylist=mylist1\n",
    "print(mylist)"
   ]
  },
  {
   "cell_type": "code",
   "execution_count": 14,
   "id": "33f19e8a-4e56-4a53-b096-c741c2690ddc",
   "metadata": {},
   "outputs": [
    {
     "name": "stdout",
     "output_type": "stream",
     "text": [
      "[10, 20, 30, 40, 70]\n"
     ]
    }
   ],
   "source": [
    "mylist=[10,20,30,40,\"\",70]\n",
    "mylist1=[]\n",
    "for i in mylist:\n",
    "    if i!=\"\":\n",
    "        mylist1.append(i)\n",
    "mylist=mylist1\n",
    "print(mylist)"
   ]
  },
  {
   "cell_type": "code",
   "execution_count": null,
   "id": "12d3d1be-0d46-47cd-83f1-d9d2477a8d8b",
   "metadata": {},
   "outputs": [],
   "source": []
  },
  {
   "cell_type": "code",
   "execution_count": 21,
   "id": "62b8c171-cc6f-46ec-835e-a03f4395ee9f",
   "metadata": {},
   "outputs": [
    {
     "name": "stdout",
     "output_type": "stream",
     "text": [
      "regexkrgkppedfkmn\n"
     ]
    }
   ],
   "source": [
    "# 5. Remove special symbols / punctuation from a string\n",
    "string=\"regex.krgk..@/ppedfkmn\"\n",
    "mylist=[]\n",
    "for i in string:\n",
    "    if (i >='0' and i<='9') or (i>='a' and i<='z') or (i>='A' and i<='z'):\n",
    "        mylist.append(i)\n",
    "result=''.join(mylist)\n",
    "print(result)\n",
    "        \n",
    "                                                "
   ]
  },
  {
   "cell_type": "code",
   "execution_count": 25,
   "id": "d4f6a611-5b7f-402c-98ac-06bfd1b7c327",
   "metadata": {},
   "outputs": [
    {
     "name": "stdout",
     "output_type": "stream",
     "text": [
      "2510\n"
     ]
    }
   ],
   "source": [
    "# 6. Removal all characters from a string except integers\n",
    "# a. str1 = 'I am 25 years and 10 months old'\n",
    "# b. expected-->2510\n",
    "\n",
    "str1='I am 25 years and 10 months old'\n",
    "i=''\n",
    "for char in str1:\n",
    "    if (char >='0' and char <='9'):\n",
    "        i+=char\n",
    "print(i)"
   ]
  },
  {
   "cell_type": "code",
   "execution_count": null,
   "id": "a34c5dce-9510-4725-ba4e-4754f6441b43",
   "metadata": {},
   "outputs": [],
   "source": [
    "#7. extract the email service provider name\n",
    "# a. emaillist=[\"KSR@datavizion.com\",\"mymail@yahoo.com\",\"milindmali@google. com\",\"snehal@health\n",
    "\n",
    "\n",
    "\n",
    "\n"
   ]
  },
  {
   "cell_type": "code",
   "execution_count": 23,
   "id": "7e1cb347-71c8-47f5-b27a-e57b67d319f3",
   "metadata": {},
   "outputs": [
    {
     "name": "stdout",
     "output_type": "stream",
     "text": [
      "50\n"
     ]
    }
   ],
   "source": [
    "mylist=[10,20,300,50,300,5]\n",
    "largest=slargest=0\n",
    "for n in mylist:\n",
    "    if(n>largest):\n",
    "        slargest=largest\n",
    "        largest=n\n",
    "    elif(n>slargest and n!=largest):\n",
    "        slargest=n\n",
    "print(slargest)"
   ]
  },
  {
   "cell_type": "code",
   "execution_count": 24,
   "id": "328ed890-bf57-4673-b309-c651d1cadd34",
   "metadata": {},
   "outputs": [
    {
     "ename": "SyntaxError",
     "evalue": "invalid syntax (614374487.py, line 4)",
     "output_type": "error",
     "traceback": [
      "\u001b[1;36m  Cell \u001b[1;32mIn[24], line 4\u001b[1;36m\u001b[0m\n\u001b[1;33m    for n in my mylist:\u001b[0m\n\u001b[1;37m                ^\u001b[0m\n\u001b[1;31mSyntaxError\u001b[0m\u001b[1;31m:\u001b[0m invalid syntax\n"
     ]
    }
   ],
   "source": [
    "mylist=[10,20,300,50,300,5]\n",
    "lowest=0\n",
    "slowest=n\n",
    "for n in my mylist:\n",
    "    if(n<slowest):\n",
    "        lowest=slowest \n",
    "    elif(n<"
   ]
  },
  {
   "cell_type": "code",
   "execution_count": null,
   "id": "c7f1bd3b-d241-40a5-8b23-bc6d246e5885",
   "metadata": {},
   "outputs": [],
   "source": [
    "# in a single program,maximum,secondmax,lowest,second lowest\n",
    "# run a program to find out the k maximum "
   ]
  },
  {
   "cell_type": "code",
   "execution_count": 26,
   "id": "4ff74e48-d210-4b1e-b180-348feccededc",
   "metadata": {},
   "outputs": [
    {
     "name": "stdout",
     "output_type": "stream",
     "text": [
      "[10, 20, 30, 40, 50]\n"
     ]
    }
   ],
   "source": [
    "# Write a program to clone or copy the list:\n",
    "mylist=[10,20,30,40,50]\n",
    "clonelist=[]\n",
    "for i in mylist:\n",
    "    clonelist.append(i)\n",
    "print(clonelist)"
   ]
  },
  {
   "cell_type": "code",
   "execution_count": 32,
   "id": "cb36c0a9-eaea-448c-b278-088fba45ca40",
   "metadata": {},
   "outputs": [
    {
     "ename": "TypeError",
     "evalue": "unsupported operand type(s) for +: 'int' and 'list'",
     "output_type": "error",
     "traceback": [
      "\u001b[1;31m---------------------------------------------------------------------------\u001b[0m",
      "\u001b[1;31mTypeError\u001b[0m                                 Traceback (most recent call last)",
      "Cell \u001b[1;32mIn[32], line 6\u001b[0m\n\u001b[0;32m      4\u001b[0m addlist\u001b[38;5;241m=\u001b[39m[]\n\u001b[0;32m      5\u001b[0m \u001b[38;5;28;01mfor\u001b[39;00m i \u001b[38;5;129;01min\u001b[39;00m mylist:\n\u001b[1;32m----> 6\u001b[0m     \u001b[38;5;28;01mif\u001b[39;00m \u001b[43mi\u001b[49m\u001b[38;5;241;43m+\u001b[39;49m\u001b[43mmylist\u001b[49m:\n\u001b[0;32m      7\u001b[0m         \u001b[38;5;28;01mpass\u001b[39;00m\n\u001b[0;32m      9\u001b[0m \u001b[38;5;28mprint\u001b[39m(addlist)\n",
      "\u001b[1;31mTypeError\u001b[0m: unsupported operand type(s) for +: 'int' and 'list'"
     ]
    }
   ],
   "source": [
    "# 12. Write a program to get sum of number of digit in a list\n",
    "\n",
    "mylist=[10,20,30,40,50]\n",
    "addlist=[]\n",
    "for i in mylist:\n",
    "    if i+mylist:\n",
    "        pass\n",
    "    \n",
    "print(addlist)\n"
   ]
  },
  {
   "cell_type": "code",
   "execution_count": 3,
   "id": "3ba66799-1fce-443c-b64d-19f701ec14e5",
   "metadata": {},
   "outputs": [
    {
     "name": "stdin",
     "output_type": "stream",
     "text": [
      "Enter the dividend for division:  5\n",
      "Enter the divisor for division:  10\n"
     ]
    },
    {
     "name": "stdout",
     "output_type": "stream",
     "text": [
      "Division: 5.0 / 10.0 = 0.5\n"
     ]
    }
   ],
   "source": [
    "num3 = float(input(\"Enter the dividend for division: \"))\n",
    "num4 = float(input(\"Enter the divisor for division: \"))\n",
    "if num4 == 0:\n",
    " print(\"Error: Division by zero is not allowed.\")\n",
    "else:\n",
    " div_result = num3 / num4\n",
    " print(f\"Division: {num3} / {num4} = {div_result}\")"
   ]
  },
  {
   "cell_type": "code",
   "execution_count": 5,
   "id": "3672044a-f897-46e0-b3f2-ecba3ec55b0c",
   "metadata": {},
   "outputs": [
    {
     "name": "stdin",
     "output_type": "stream",
     "text": [
      "enter base of the triangle 10\n",
      "enter lenght of the triangle 15\n"
     ]
    },
    {
     "name": "stdout",
     "output_type": "stream",
     "text": [
      "75.0\n"
     ]
    }
   ],
   "source": [
    "# Write a Python program to find the area of a triangle.\n",
    "base=float(input(\"enter base of the triangle\"))\n",
    "height=float(input(\"enter lenght of the triangle\"))\n",
    "area=0.5*base*height\n",
    "print(area)\n"
   ]
  },
  {
   "cell_type": "code",
   "execution_count": null,
   "id": "01ba3d9b-f4c8-4522-8407-68a72c16bedf",
   "metadata": {},
   "outputs": [],
   "source": [
    "# Write a Python program to swap two variables.\n",
    "a=10\n",
    "b=20\n"
   ]
  },
  {
   "cell_type": "code",
   "execution_count": 1,
   "id": "3d1186f2-cd85-4a12-8825-f20df513138e",
   "metadata": {},
   "outputs": [
    {
     "name": "stdin",
     "output_type": "stream",
     "text": [
      "enter a no: 9\n"
     ]
    },
    {
     "name": "stdout",
     "output_type": "stream",
     "text": [
      "weird\n"
     ]
    }
   ],
   "source": [
    "n=int(input(\"enter a no:\"))\n",
    "if n%2!=0:\n",
    "    print(\"weird\")\n",
    "elif (n>=2 and n<=5):\n",
    "    print(\"not weird\")\n",
    "elif (n>=6 and n<=20):\n",
    "    print(\"weird\")\n",
    "elif n>20:\n",
    "    print(\"not weird\")\n",
    "else:\n",
    "    print(\"invalid\")\n"
   ]
  },
  {
   "cell_type": "code",
   "execution_count": 4,
   "id": "1bbbfd8e-0495-48b2-b96c-2750341829f2",
   "metadata": {},
   "outputs": [
    {
     "name": "stdin",
     "output_type": "stream",
     "text": [
      "Enter a number:  4\n"
     ]
    },
    {
     "name": "stdout",
     "output_type": "stream",
     "text": [
      "Not Weird\n"
     ]
    }
   ],
   "source": [
    "n = int(input(\"Enter a number: \"))\n",
    "\n",
    "if n % 2 != 0:\n",
    "    print(\"Weird\")\n",
    "elif 2 <= n <= 5:\n",
    "    print(\"Not Weird\")\n",
    "elif 6 <= n <= 20:\n",
    "    print(\"Weird\")\n",
    "elif n > 20:\n",
    "    print(\"Not Weird\")\n",
    "else:\n",
    "    print(\"Invalid\")\n"
   ]
  },
  {
   "cell_type": "code",
   "execution_count": 6,
   "id": "3e17c6fe-8527-4c45-887c-80d1a5d6dcc1",
   "metadata": {},
   "outputs": [
    {
     "name": "stdout",
     "output_type": "stream",
     "text": [
      "8\n",
      "-2\n",
      "15\n"
     ]
    }
   ],
   "source": [
    "a=3\n",
    "b=5\n",
    "c=a+b\n",
    "d=a-b\n",
    "e=a*b\n",
    "print(c)\n",
    "print(d)\n",
    "print(e)"
   ]
  },
  {
   "cell_type": "code",
   "execution_count": 8,
   "id": "86286563-1237-44dc-896e-aa83a52d5980",
   "metadata": {},
   "outputs": [
    {
     "name": "stdout",
     "output_type": "stream",
     "text": [
      "['e', 'l', 'o', 'h', 'e', 'f', 'u', 'j', 'H', 'L', 'K', 'J', 'N', 'D', 'D']\n"
     ]
    }
   ],
   "source": [
    "lower=[]\n",
    "upper=[]\n",
    "string=\"HelLohefujKJNDD\"\n",
    "for i in string:\n",
    "    if i>='a' and i<='z':\n",
    "        lower.append(i)\n",
    "    elif i>='A' and i<='Z':\n",
    "        upper.append(i)\n",
    "result=lower+upper\n",
    "print(result)"
   ]
  },
  {
   "cell_type": "code",
   "execution_count": 19,
   "id": "c671fa4e-e537-416b-aa02-eff5aabd70c3",
   "metadata": {},
   "outputs": [
    {
     "name": "stdout",
     "output_type": "stream",
     "text": [
      "60\n"
     ]
    }
   ],
   "source": [
    "# find largest\n",
    "numbers=[10,20,30,5,-10,30,60]\n",
    "minimum=numbers[0]\n",
    "for i in numbers:\n",
    "    if i>minimum:\n",
    "        minimum=i\n",
    "print(minimum)"
   ]
  },
  {
   "cell_type": "code",
   "execution_count": 20,
   "id": "af4778e9-881f-4361-90eb-f43058743030",
   "metadata": {},
   "outputs": [
    {
     "name": "stdout",
     "output_type": "stream",
     "text": [
      "before swapping 10\n",
      "before swapping 15\n",
      "after swapping 15\n",
      "after swapping 10\n"
     ]
    }
   ],
   "source": [
    "a=10\n",
    "b=15\n",
    "print(\"before swapping\",a)\n",
    "print(\"before swapping\",b)\n",
    "a=a+b\n",
    "b=a-b\n",
    "a=a-b\n",
    "print(\"after swapping\",a)\n",
    "print(\"after swapping\",b)"
   ]
  },
  {
   "cell_type": "code",
   "execution_count": 23,
   "id": "15baf2b9-2681-43ca-b920-4a38a7b6c8fb",
   "metadata": {},
   "outputs": [
    {
     "name": "stdout",
     "output_type": "stream",
     "text": [
      "before swapping 10\n",
      "before swapping 15\n",
      "after swapping 15\n",
      "after swapping 10\n"
     ]
    }
   ],
   "source": [
    "a=10\n",
    "b=15\n",
    "print(\"before swapping\",a)\n",
    "print(\"before swapping\",b)\n",
    "temp=a\n",
    "a=b\n",
    "b=temp\n",
    "print(\"after swapping\",a)\n",
    "print(\"after swapping\",b)"
   ]
  },
  {
   "cell_type": "code",
   "execution_count": 2,
   "id": "91650bca-75eb-4b09-88a1-ec725c45626f",
   "metadata": {},
   "outputs": [
    {
     "name": "stdout",
     "output_type": "stream",
     "text": [
      "[-20, 60, 1]\n"
     ]
    }
   ],
   "source": [
    "#duplicate \n",
    "numbers=[40, 50, -20, 60, 60, -20, 20,1,1]\n",
    "duplicate=[]\n",
    "for i in range(len(numbers)):\n",
    "    if numbers.count(numbers[i])>1 and numbers[i] not in duplicate:\n",
    "        duplicate.append(numbers[i])\n",
    "print(duplicate)"
   ]
  },
  {
   "cell_type": "code",
   "execution_count": null,
   "id": "0e8bb7db-3226-481c-ab14-1895e1785d6d",
   "metadata": {},
   "outputs": [],
   "source": []
  }
 ],
 "metadata": {
  "kernelspec": {
   "display_name": "Python 3 (ipykernel)",
   "language": "python",
   "name": "python3"
  },
  "language_info": {
   "codemirror_mode": {
    "name": "ipython",
    "version": 3
   },
   "file_extension": ".py",
   "mimetype": "text/x-python",
   "name": "python",
   "nbconvert_exporter": "python",
   "pygments_lexer": "ipython3",
   "version": "3.10.11"
  }
 },
 "nbformat": 4,
 "nbformat_minor": 5
}
