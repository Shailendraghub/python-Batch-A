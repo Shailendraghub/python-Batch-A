{
 "cells": [
  {
   "cell_type": "code",
   "execution_count": 1,
   "id": "54d2c04e-9d16-491f-9c80-5d305512eb93",
   "metadata": {},
   "outputs": [
    {
     "name": "stdout",
     "output_type": "stream",
     "text": [
      "5\n"
     ]
    }
   ],
   "source": [
    "buy=0\n",
    "sell=1\n",
    "maxi=0\n",
    "mylist=[7,1,5,3,6,4]\n",
    "no_days=len(mylist)\n",
    "\n",
    "while(sell<no_days):\n",
    "    if(mylist[sell]>mylist[buy]):\n",
    "        profit_margin=mylist[sell]-mylist[buy]\n",
    "        maxi=max(maxi,profit_margin)\n",
    "    else:\n",
    "        buy=sell\n",
    "    sell+=1\n",
    "print(maxi)"
   ]
  },
  {
   "cell_type": "code",
   "execution_count": 3,
   "id": "e1fd69fd-16a9-4e6d-b6ef-fc3bcd36f642",
   "metadata": {},
   "outputs": [
    {
     "name": "stdout",
     "output_type": "stream",
     "text": [
      "{10: 0, 20: 1, 30: 2}\n",
      "0 2\n"
     ]
    }
   ],
   "source": [
    "mydictionar={}\n",
    "k=40\n",
    "for x in enumerate([10,20,30]):\n",
    "    value,key=x\n",
    "    if key not in mydictionar:\n",
    "        mydictionar[key]=value\n",
    "print(mydictionar)\n",
    "\n",
    "for value,key in enumerate([10,20,30]):\n",
    "    if k-key in mydictionar and mydictionar[k-key]!= value:\n",
    "        print(value,mydictionar[k-key])\n",
    "        break"
   ]
  },
  {
   "cell_type": "code",
   "execution_count": 2,
   "id": "7f12ff4c-bae3-4de2-832d-fe8179cacc28",
   "metadata": {},
   "outputs": [
    {
     "name": "stdout",
     "output_type": "stream",
     "text": [
      "True\n"
     ]
    }
   ],
   "source": [
    "def anagram(s, t):\n",
    "    return sorted(s) == sorted(t)\n",
    "print(anagram(\"tenisl\", \"silent\")) \n"
   ]
  }
 ],
 "metadata": {
  "kernelspec": {
   "display_name": "Python 3 (ipykernel)",
   "language": "python",
   "name": "python3"
  },
  "language_info": {
   "codemirror_mode": {
    "name": "ipython",
    "version": 3
   },
   "file_extension": ".py",
   "mimetype": "text/x-python",
   "name": "python",
   "nbconvert_exporter": "python",
   "pygments_lexer": "ipython3",
   "version": "3.10.11"
  }
 },
 "nbformat": 4,
 "nbformat_minor": 5
}
