{
 "cells": [
  {
   "cell_type": "code",
   "execution_count": null,
   "id": "703951ea-5339-4ea4-84c7-ab00f5168e02",
   "metadata": {},
   "outputs": [],
   "source": [
    "#functions\n",
    "#named of block\n",
    "# code smallerr part convert\n",
    "# issue /debugging is quite easy.\n"
   ]
  },
  {
   "cell_type": "code",
   "execution_count": 1,
   "id": "e8edeb5b-2825-492a-8e9b-618237ef4398",
   "metadata": {},
   "outputs": [
    {
     "name": "stdout",
     "output_type": "stream",
     "text": [
      "hey 10\n"
     ]
    }
   ],
   "source": [
    "def func():\n",
    "    x=10\n",
    "    print(\"hey\",x)\n",
    "func()"
   ]
  },
  {
   "cell_type": "code",
   "execution_count": 3,
   "id": "6b2ab3cd-09fe-4718-99e1-805a213b8a78",
   "metadata": {},
   "outputs": [
    {
     "name": "stdout",
     "output_type": "stream",
     "text": [
      "100\n",
      "hey\n",
      "115\n"
     ]
    }
   ],
   "source": [
    "a=100\n",
    "def func(y):\n",
    "    global a\n",
    "    a=a+y\n",
    "    print(\"hey\")\n",
    "print(a)\n",
    "func(15)\n",
    "print(a)"
   ]
  },
  {
   "cell_type": "code",
   "execution_count": 4,
   "id": "6a2c0b4a-ac89-486a-9c15-d889e892ed23",
   "metadata": {},
   "outputs": [
    {
     "ename": "SyntaxError",
     "evalue": "incomplete input (4172570377.py, line 1)",
     "output_type": "error",
     "traceback": [
      "\u001b[1;36m  Cell \u001b[1;32mIn[4], line 1\u001b[1;36m\u001b[0m\n\u001b[1;33m    def func(a):\u001b[0m\n\u001b[1;37m                ^\u001b[0m\n\u001b[1;31mSyntaxError\u001b[0m\u001b[1;31m:\u001b[0m incomplete input\n"
     ]
    }
   ],
   "source": [
    "def func(a):\n",
    "    print(a)\n",
    "\n",
    "# a==re"
   ]
  },
  {
   "cell_type": "code",
   "execution_count": null,
   "id": "fa7166af-3920-4835-a956-751775067b1d",
   "metadata": {},
   "outputs": [],
   "source": [
    "#required \n",
    "#positional \n",
    "#keyword argument -naming\n",
    "#default\n",
    "#variable length-*args-data -tuple format \n",
    "#keyword variable length argyment -**kwargs- data-dictionary format "
   ]
  },
  {
   "cell_type": "code",
   "execution_count": 13,
   "id": "0f013045-fdcd-4cae-a2ea-b9e80d3536d5",
   "metadata": {},
   "outputs": [
    {
     "ename": "SyntaxError",
     "evalue": "positional argument follows keyword argument (3277138766.py, line 3)",
     "output_type": "error",
     "traceback": [
      "\u001b[1;36m  Cell \u001b[1;32mIn[13], line 3\u001b[1;36m\u001b[0m\n\u001b[1;33m    func(a=15,10)\u001b[0m\n\u001b[1;37m                ^\u001b[0m\n\u001b[1;31mSyntaxError\u001b[0m\u001b[1;31m:\u001b[0m positional argument follows keyword argument\n"
     ]
    }
   ],
   "source": [
    "def func(a,b):\n",
    "    print(\"a:\" ,a,\"b:\",b)\n",
    "func(a=15,10)"
   ]
  },
  {
   "cell_type": "code",
   "execution_count": 6,
   "id": "26fc398d-5d40-425c-a131-19746614554b",
   "metadata": {},
   "outputs": [
    {
     "name": "stdout",
     "output_type": "stream",
     "text": [
      "a: 15 b: 5\n"
     ]
    }
   ],
   "source": [
    "def func(a,b=20):\n",
    "    print(\"a:\" ,a,\"b:\",b)\n",
    "func(15,b=5)"
   ]
  },
  {
   "cell_type": "code",
   "execution_count": 20,
   "id": "271d3d7e-1ed9-4e92-98a9-a479e6c871e1",
   "metadata": {},
   "outputs": [
    {
     "name": "stdout",
     "output_type": "stream",
     "text": [
      "kargs: {'a': 15, 'b': 999}\n"
     ]
    }
   ],
   "source": [
    "def func(**kwargs):\n",
    "    print(\"kargs:\",kwargs)\n",
    "func(a=15,b=999)"
   ]
  },
  {
   "cell_type": "code",
   "execution_count": 29,
   "id": "9f8cdbb5-82a2-4f59-b6f8-29f9713f6f5f",
   "metadata": {},
   "outputs": [
    {
     "name": "stdout",
     "output_type": "stream",
     "text": [
      "0\n",
      "1\n",
      "1\n",
      "2\n",
      "3\n",
      "5\n",
      "8\n",
      "13\n",
      "21\n",
      "34\n"
     ]
    }
   ],
   "source": [
    "# waf which takes where n is the parameter fibonacci series..\n",
    "\n",
    "def fibonacci(n):\n",
    "    n1=0\n",
    "    n2=1\n",
    "    print(n1)\n",
    "    print(n2)\n",
    "    for i in range(2,n):\n",
    "        n3=n1+n2\n",
    "        print(n3)\n",
    "        n1=n2\n",
    "        n2=n3\n",
    "fibonacci(10)\n"
   ]
  },
  {
   "cell_type": "code",
   "execution_count": 14,
   "id": "8cf21be3-b714-4dbd-bc6a-e6b6008c7b59",
   "metadata": {},
   "outputs": [
    {
     "name": "stdout",
     "output_type": "stream",
     "text": [
      "prime number\n"
     ]
    }
   ],
   "source": [
    "#x is argument ..x number is prime number or not..\n",
    "def prime(primeno):\n",
    "    isprime =True\n",
    "    for divide in range(2,primeno):\n",
    "        if(primeno%divide==0):\n",
    "            isprime=False\n",
    "    if(isprime==True):\n",
    "        print(\"prime number\")\n",
    "    else: \n",
    "        print(\"not prime\")\n",
    "prime(67)"
   ]
  },
  {
   "cell_type": "code",
   "execution_count": null,
   "id": "064c1126-25af-4e74-b878-cfc3ee533604",
   "metadata": {},
   "outputs": [],
   "source": [
    "# find hcf...\n",
    "a=10\n",
    "b=20\n",
    "if a>b:\n",
    "    a,b=b,a%b"
   ]
  },
  {
   "cell_type": "code",
   "execution_count": 60,
   "id": "504b49c2-b23a-4a56-8c6f-1ee9882f38a3",
   "metadata": {},
   "outputs": [
    {
     "name": "stdin",
     "output_type": "stream",
     "text": [
      "enter a no: 54345\n"
     ]
    },
    {
     "name": "stdout",
     "output_type": "stream",
     "text": [
      "pallindrom\n"
     ]
    }
   ],
   "source": [
    "\n",
    "x=int(input(\"enter a no:\"))\n",
    "mydict=\n",
    "def func(x):\n",
    "    sum=0\n",
    "    temp=x\n",
    "    while(x>0):\n",
    "        rem=x%10\n",
    "        sum=sum*10+rem\n",
    "        x=x//10\n",
    "    if (sum==temp):\n",
    "        print(\"pallindrom\")\n",
    "    else:\n",
    "        print(\"not pallindrom\") \n",
    "func(x)  \n"
   ]
  },
  {
   "cell_type": "code",
   "execution_count": 10,
   "id": "cd71c12c-167f-4aa8-911b-60f04d32ff6b",
   "metadata": {},
   "outputs": [
    {
     "data": {
      "text/plain": [
       "25"
      ]
     },
     "execution_count": 10,
     "metadata": {},
     "output_type": "execute_result"
    }
   ],
   "source": [
    "def square(num):\n",
    "    return num*num\n",
    "square(5)"
   ]
  },
  {
   "cell_type": "code",
   "execution_count": 13,
   "id": "ca843d8a-d1db-4ab4-b399-1e3421f8460c",
   "metadata": {},
   "outputs": [
    {
     "data": {
      "text/plain": [
       "29"
      ]
     },
     "execution_count": 13,
     "metadata": {},
     "output_type": "execute_result"
    }
   ],
   "source": [
    "def add(*args):\n",
    "    return sum(args)\n",
    "add(2,5,5,5,6,6)"
   ]
  },
  {
   "cell_type": "code",
   "execution_count": 19,
   "id": "824b6b05-aae3-47e8-8b67-df0482f11b2b",
   "metadata": {},
   "outputs": [
    {
     "name": "stdout",
     "output_type": "stream",
     "text": [
      "before: 10 20\n",
      "before: 10 20\n"
     ]
    }
   ],
   "source": [
    "x=10\n",
    "y=20\n",
    "def swapnumber(x,y):\n",
    "    temp=x\n",
    "    x=y\n",
    "    y=temp\n",
    "print(\"before:\",x,y)\n",
    "swapnumber(10,20)\n",
    "print(\"after:\",x,y)\n"
   ]
  },
  {
   "cell_type": "code",
   "execution_count": null,
   "id": "70f9f495-e879-4acb-a8a7-786bdd292223",
   "metadata": {},
   "outputs": [],
   "source": [
    "#agar hum immutbale data type le rhe h to local varuab\n",
    "# info objects\n",
    "#return ke baad function se bahar \n",
    "# return ke baad kuhc ni chalgea ..dynamically types,interpred-line by line checked "
   ]
  },
  {
   "cell_type": "code",
   "execution_count": 23,
   "id": "0d743723-856c-40ce-82a1-06f80a9c1ac5",
   "metadata": {},
   "outputs": [
    {
     "name": "stdout",
     "output_type": "stream",
     "text": [
      "out False\n"
     ]
    }
   ],
   "source": [
    "def add(n):\n",
    "    if n%2==0:\n",
    "        return True\n",
    "    else:\n",
    "        return False\n",
    "out=add(41)\n",
    "print(\"out\",out)\n"
   ]
  },
  {
   "cell_type": "code",
   "execution_count": 24,
   "id": "079accd0-c864-458a-91f3-62736c3329a2",
   "metadata": {},
   "outputs": [
    {
     "data": {
      "text/plain": [
       "10"
      ]
     },
     "execution_count": 24,
     "metadata": {},
     "output_type": "execute_result"
    }
   ],
   "source": [
    "def func():\n",
    "    return 10\n",
    "    return 10/0\n",
    "func()\n"
   ]
  },
  {
   "cell_type": "code",
   "execution_count": 29,
   "id": "2676c01f-d01f-4731-b796-e594c037463e",
   "metadata": {},
   "outputs": [
    {
     "name": "stdout",
     "output_type": "stream",
     "text": [
      "30\n"
     ]
    }
   ],
   "source": [
    "#not effect str because python dynamically typed language.\n",
    "def func(n:str):\n",
    "    print(n+20)\n",
    "func(10)"
   ]
  },
  {
   "cell_type": "code",
   "execution_count": null,
   "id": "71618059-3b0a-4115-91ab-2c43c31c1a5e",
   "metadata": {},
   "outputs": [],
   "source": [
    "#types of argument passing\n",
    "#global local variable \n",
    "#return \n",
    "#type hinting "
   ]
  },
  {
   "cell_type": "code",
   "execution_count": 30,
   "id": "16dbe9ad-670b-4a9b-b83a-db5bd6676c13",
   "metadata": {},
   "outputs": [],
   "source": [
    "#high order  functions and first class functions:"
   ]
  },
  {
   "cell_type": "code",
   "execution_count": null,
   "id": "327c07a4-780e-444f-9b98-418f10a2975b",
   "metadata": {},
   "outputs": [],
   "source": []
  },
  {
   "cell_type": "code",
   "execution_count": null,
   "id": "fdf27369-7f16-4624-baa5-e23e92dc7120",
   "metadata": {},
   "outputs": [],
   "source": [
    "#first class function \n",
    "# a function is an instance of the object type.\n",
    "# you can store the function in a vairable.\n",
    "# you can pass the fucntion as a parameter to another function.\n",
    "# you can return the function from a function .\n",
    "# you can store the data sturetures such as hash table, lists.../\n"
   ]
  },
  {
   "cell_type": "code",
   "execution_count": null,
   "id": "e1d53df1-c363-4ec6-8eef-1dab6898c12b",
   "metadata": {},
   "outputs": [],
   "source": [
    "#call by object refrence '"
   ]
  },
  {
   "cell_type": "code",
   "execution_count": 35,
   "id": "0cf846b2-2847-462e-903d-162353b725ff",
   "metadata": {},
   "outputs": [
    {
     "name": "stdout",
     "output_type": "stream",
     "text": [
      "<function func at 0x000001589AC47AC0>\n",
      "<function func at 0x000001589AC47AC0>\n",
      "hello\n"
     ]
    }
   ],
   "source": [
    "#first class function --not using bracket \n",
    "def func():\n",
    "    print(\"hello\")\n",
    "print(func)\n",
    "out=func\n",
    "print(out)\n",
    "out()\n",
    "out"
   ]
  },
  {
   "cell_type": "code",
   "execution_count": 39,
   "id": "9a2647e6-640b-4caf-b3a9-4e9789d282ce",
   "metadata": {},
   "outputs": [
    {
     "name": "stdout",
     "output_type": "stream",
     "text": [
      "hello\n",
      "None\n"
     ]
    }
   ],
   "source": [
    "def func():\n",
    "    print(\"hello\")\n",
    "out=func\n",
    "mylist=[0,out]\n",
    "print(mylist[1] ())"
   ]
  },
  {
   "cell_type": "code",
   "execution_count": 50,
   "id": "1567c936-32d7-4587-9a35-579e195157b2",
   "metadata": {},
   "outputs": [
    {
     "name": "stdout",
     "output_type": "stream",
     "text": [
      "True\n"
     ]
    }
   ],
   "source": [
    "def anagram(s, t):\n",
    "    return sorted(s) == sorted(t)\n",
    "print(anagram(\"tenisl\", \"silent\")) \n"
   ]
  },
  {
   "cell_type": "code",
   "execution_count": 49,
   "id": "ea65168c-3ee1-4f58-8f35-0cababcec7fc",
   "metadata": {},
   "outputs": [],
   "source": [
    "s = \"anagram\"\n",
    "t = \"nagaram\"\n",
    "sdict = {}\n",
    "tdict = {}\n",
    "for char in s:\n",
    "    sdict[char]=s\n",
    "\n",
    "\n"
   ]
  },
  {
   "cell_type": "code",
   "execution_count": 52,
   "id": "fe170f29-3193-44cc-9b5e-8b65cbe21af1",
   "metadata": {},
   "outputs": [
    {
     "name": "stdout",
     "output_type": "stream",
     "text": [
      "['o', 'l', 'l', 'e', 'h']\n"
     ]
    }
   ],
   "source": [
    "s = ['h', 'e', 'l', 'l', 'o']\n",
    "\n",
    "reverseds = []\n",
    "for i in range(len(s) - 1, -1, -1):\n",
    "    reverseds.append(s[i])  \n",
    "print(reverseds) "
   ]
  },
  {
   "cell_type": "code",
   "execution_count": null,
   "id": "ed68d1d5-9301-4a33-8e46-6168efcf6c31",
   "metadata": {},
   "outputs": [],
   "source": [
    "#valid pallindrom \n",
    "#isomorphic\n",
    "#reverse\n"
   ]
  }
 ],
 "metadata": {
  "kernelspec": {
   "display_name": "Python 3 (ipykernel)",
   "language": "python",
   "name": "python3"
  },
  "language_info": {
   "codemirror_mode": {
    "name": "ipython",
    "version": 3
   },
   "file_extension": ".py",
   "mimetype": "text/x-python",
   "name": "python",
   "nbconvert_exporter": "python",
   "pygments_lexer": "ipython3",
   "version": "3.10.11"
  }
 },
 "nbformat": 4,
 "nbformat_minor": 5
}
