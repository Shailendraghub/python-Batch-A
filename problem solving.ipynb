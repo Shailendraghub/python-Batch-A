{
 "cells": [
  {
   "cell_type": "code",
   "execution_count": 3,
   "id": "e0c48607-e173-4283-86dd-8d3b49d98b94",
   "metadata": {},
   "outputs": [
    {
     "name": "stdout",
     "output_type": "stream",
     "text": [
      "0\n",
      "1\n",
      "1\n",
      "2\n",
      "3\n",
      "5\n",
      "8\n",
      "13\n",
      "21\n",
      "34\n"
     ]
    }
   ],
   "source": [
    "# 1. Write a program that generates the first `n` Fibonacci numbers using a loop.\n",
    "n1=0\n",
    "n2=1\n",
    "n=10\n",
    "print(n1)\n",
    "print(n2)\n",
    "for i in range(2,n):\n",
    "    n3=n1+n2\n",
    "    print(n3)\n",
    "    n1=n2\n",
    "    n2=n3"
   ]
  },
  {
   "cell_type": "code",
   "execution_count": 7,
   "id": "829d2ba4-fa93-4827-88d4-11fc5dd80752",
   "metadata": {},
   "outputs": [
    {
     "name": "stdout",
     "output_type": "stream",
     "text": [
      "99\n"
     ]
    }
   ],
   "source": [
    "# 2. How would you implement a binary search algorithm using loops?\n",
    "nums = [1, 50, 32, 99, 78, 0, 22]\n",
    "largest=nums[0]\n",
    "for num in nums:\n",
    "    if num > largest:\n",
    "        largest=num\n",
    "print(largest)\n"
   ]
  },
  {
   "cell_type": "code",
   "execution_count": 12,
   "id": "a5166054-6fb0-44bd-8e0e-e438f3391e0a",
   "metadata": {},
   "outputs": [
    {
     "name": "stdout",
     "output_type": "stream",
     "text": [
      "Element 13 is present at index 4.\n"
     ]
    }
   ],
   "source": [
    "# Sorted list\n",
    "arr = [2, 4, 7, 9, 13, 19, 22, 31,10,13]\n",
    "\n",
    "target = 13\n",
    "\n",
    "low = 0\n",
    "high = len(arr) - 1\n",
    "\n",
    "while low <= high:\n",
    "    mid = (low + high) // 2\n",
    "    \n",
    "    if arr[mid] == target:\n",
    "        print(f\"Element {target} is present at index {mid}.\")\n",
    "        break\n",
    "    \n",
    "    elif arr[mid] > target:\n",
    "        high = mid - 1\n",
    "    \n",
    "    else:\n",
    "        low = mid + 1\n",
    "else:\n",
    "    print(f\"Element {target} is not present in the list.\")\n"
   ]
  },
  {
   "cell_type": "code",
   "execution_count": 14,
   "id": "eb045feb-a4cb-4850-a737-3531d94929c4",
   "metadata": {},
   "outputs": [
    {
     "name": "stdout",
     "output_type": "stream",
     "text": [
      "None\n"
     ]
    }
   ],
   "source": [
    "a=[50,10,20,30,40]\n"
   ]
  },
  {
   "cell_type": "code",
   "execution_count": null,
   "id": "c3795d16-064f-4734-881b-f6b6ba18a1c3",
   "metadata": {},
   "outputs": [],
   "source": []
  }
 ],
 "metadata": {
  "kernelspec": {
   "display_name": "Python 3 (ipykernel)",
   "language": "python",
   "name": "python3"
  },
  "language_info": {
   "codemirror_mode": {
    "name": "ipython",
    "version": 3
   },
   "file_extension": ".py",
   "mimetype": "text/x-python",
   "name": "python",
   "nbconvert_exporter": "python",
   "pygments_lexer": "ipython3",
   "version": "3.10.11"
  }
 },
 "nbformat": 4,
 "nbformat_minor": 5
}
