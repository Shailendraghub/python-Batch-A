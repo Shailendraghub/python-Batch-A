{
  "nbformat": 4,
  "nbformat_minor": 0,
  "metadata": {
    "colab": {
      "provenance": []
    },
    "kernelspec": {
      "name": "python3",
      "display_name": "Python 3"
    },
    "language_info": {
      "name": "python"
    }
  },
  "cells": [
    {
      "cell_type": "code",
      "execution_count": null,
      "metadata": {
        "id": "KnUmD_90q8mR"
      },
      "outputs": [],
      "source": [
        "# GitHub Action:  This is powerful automation tool provided by github that enables developers to automate task related to their software development workflows. It allows for the\n",
        "# creation of custom workflows which can be trigreed by various events such as push to a repositories ,pull request or events and these workflows can be used for various purpose include\n",
        "# continues intergration(ci), and continueos deployment(cd).\n",
        "\n",
        "# Introduction to CI and CD:\n",
        "\n",
        "# 1.CI(Continueos integration)-   CI is a practice where developers frequently merge their code changes into a shared repositories. Each merge trigrees and automated build and test process to ensure the\n",
        "# changes do not break the existing functionalty. with Github actions developers can setter workflows to automatically build and test their code everytime they push changes\n",
        "# to the repositories or create a pull request.\n",
        "\n",
        "# 2. CD:- CD extends the concept of CI. By automating the deployment of code to production enviorments after it passes all required tests. and Github action can be configured to\n",
        "# automatically deployed applications to various enviorments such as staging or production. once the code passes CI checks and this practice reduce the time between development\n",
        "# and deployment allowing for faster delivery of features and updates.\n",
        "\n",
        "# developers workflow:-  A developer workflow referes the series of steps practices and tools that a developer or team of developer follow to write,test,collbrate on and deploy\n",
        "# code effectively. And this workflows it desgined to streamline the software development process, enhance productivity reduce errors and ensure high quality code output.\n",
        "# A well defined developers workflow in corporates various stages of development from coding to development. and often intergrates tool for version control , code reduce, testing\n",
        "# and CI CD.\n",
        "\n",
        "#Benifits of developers workflow:\n",
        "\n",
        "# 1.  Improved collabration:- Clear Workflows and processes facilated better collabration among team members. making it easier to understand who is responsible for what.\n",
        "# 2. Higher code quality :-   Code reviws automated tests and CI CD practices help maintain a high standrad of code quality.\n",
        "# 3. Reduce errors -        Automating testing and deployement reduce the likelyhood of human error ensuring more reliable releases.\n",
        "# 4. Faster Delivery :-     Streamline Workflows unable fatser development and release cycles allowing teams to deliver new feature and fixes more quikly.\n",
        "# 5. Continues Feedback loop:-  Regular monitoring and feedback helps team quikly identify and address issues continuesly improving the product.\n",
        "\n",
        "\n",
        "\n"
      ]
    }
  ]
}